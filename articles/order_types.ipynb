{
 "cells": [
  {
   "cell_type": "markdown",
   "metadata": {
    "id": "uUfDkasx7WY3"
   },
   "source": [
    "# Order Type ABCs with Alpaca Trade API"
   ]
  },
  {
   "cell_type": "markdown",
   "metadata": {
    "id": "NZx3hso28XMl"
   },
   "source": [
    "To start using the Alpaca Trade API, we'll first install the package that provides all the tools for us to use. You can view [the installation guide here](https://https://github.com/alpacahq/alpaca-trade-api-python#install)."
   ]
  },
  {
   "cell_type": "code",
   "execution_count": 52,
   "metadata": {
    "id": "-iUmxBQQbxoN"
   },
   "outputs": [],
   "source": [
    "%%capture\n",
    "!pip install alpaca-trade-api"
   ]
  },
  {
   "cell_type": "markdown",
   "metadata": {
    "id": "zHhfEA6s0h8b"
   },
   "source": [
    "## Instantiating the Python client"
   ]
  },
  {
   "cell_type": "markdown",
   "metadata": {
    "id": "o6IaDmcn8Vij"
   },
   "source": [
    "\n",
    "Before we’re able to start placing orders through Alpaca, we’ll need to sign up for an account and get our API keys. After you’ve [created an account here](https://app.alpaca.markets/signup), follow [this quick guide](https://alpaca.markets/learn/connect-to-alpaca-api/) to locate your API keys."
   ]
  },
  {
   "cell_type": "code",
   "execution_count": 53,
   "metadata": {
    "id": "wYEO-znjiMwJ"
   },
   "outputs": [],
   "source": [
    "# Importing the api and instantiating the rest client according to our keys\n",
    "import alpaca_trade_api as api\n",
    "import random\n",
    "import pprint\n",
    "\n",
    "API_KEY = \"<Your API Key>\"\n",
    "API_SECRET = \"<Your API Key>\"\n",
    "BASE_URL = \"https://paper-api.alpaca.markets\"\n",
    "\n",
    "alpaca = api.REST(API_KEY, API_SECRET, BASE_URL)"
   ]
  },
  {
   "cell_type": "markdown",
   "metadata": {
    "id": "ssOECn4Z0t9K"
   },
   "source": [
    "## The Five Basic Order Types"
   ]
  },
  {
   "cell_type": "markdown",
   "metadata": {
    "id": "S7m3FO_f8t62"
   },
   "source": [
    "After defining an asset you’d like to buy or sell, you’ll find yourself having to choose between one of the four basic order types before placing the order. These are the Market Order, Limit Order, Stop Order, Stop Limit Order, and Trailing Stop Order. "
   ]
  },
  {
   "cell_type": "markdown",
   "metadata": {
    "id": "Mm-p2e_m0bJw"
   },
   "source": [
    "### Market Orders"
   ]
  },
  {
   "cell_type": "markdown",
   "metadata": {
    "id": "xw6ssbTkYPzL"
   },
   "source": [
    "A market order is an order to buy or sell an asset at the market’s current best available price. The defining piece of a market order is that you don’t have control over the price your order fills at. This leaves the buyer to dictate one of two things: either how many shares they want to buy/sell or how much total money they want to be exchanged in this order. To use the former set the qty parameter, and to use the latter set the notional parameter. Submitting market orders by stock quantity or by notional value are mutually exclusive, it would be an error to pass both parameters into one function call. \n",
    "\n",
    "Market orders are great for people who want their orders filled faster rather than at a specific share price. To show both kinds of market orders we’ll define a stock symbol, quantity of shares to buy, the notional value of stock to buy, and place the orders using the client we’ve instantiated."
   ]
  },
  {
   "cell_type": "code",
   "execution_count": 54,
   "metadata": {
    "id": "wqKAZKKwi86p"
   },
   "outputs": [
    {
     "data": {
      "text/plain": [
       "Order({   'asset_class': 'us_equity',\n",
       "    'asset_id': 'b28f4066-5c6d-479b-a2af-85dc1a8f16fb',\n",
       "    'canceled_at': None,\n",
       "    'client_order_id': 'gcos_86238719',\n",
       "    'created_at': '2022-06-30T22:32:14.012599232Z',\n",
       "    'expired_at': None,\n",
       "    'extended_hours': False,\n",
       "    'failed_at': None,\n",
       "    'filled_at': None,\n",
       "    'filled_avg_price': None,\n",
       "    'filled_qty': '0',\n",
       "    'hwm': None,\n",
       "    'id': 'a2550202-8d2d-4977-827a-32373dbbf174',\n",
       "    'legs': None,\n",
       "    'limit_price': None,\n",
       "    'notional': None,\n",
       "    'order_class': '',\n",
       "    'order_type': 'market',\n",
       "    'qty': '10',\n",
       "    'replaced_at': None,\n",
       "    'replaced_by': None,\n",
       "    'replaces': None,\n",
       "    'side': 'buy',\n",
       "    'source': None,\n",
       "    'status': 'accepted',\n",
       "    'stop_price': None,\n",
       "    'submitted_at': '2022-06-30T22:32:14.011247623Z',\n",
       "    'subtag': None,\n",
       "    'symbol': 'SPY',\n",
       "    'time_in_force': 'day',\n",
       "    'trail_percent': None,\n",
       "    'trail_price': None,\n",
       "    'type': 'market',\n",
       "    'updated_at': '2022-06-30T22:32:14.012599232Z'})"
      ]
     },
     "execution_count": 54,
     "metadata": {},
     "output_type": "execute_result"
    }
   ],
   "source": [
    "# Submitting a market buy order by quantity of shares to buy\n",
    "symbol = \"SPY\"\n",
    "qty = 10\n",
    "client_order_id=f\"gcos_{random.randrange(100000000)}\"\n",
    "\n",
    "alpaca.submit_order(symbol, qty=qty, client_order_id=client_order_id)"
   ]
  },
  {
   "cell_type": "code",
   "execution_count": 55,
   "metadata": {
    "id": "_t3yCDVx0b9h"
   },
   "outputs": [
    {
     "data": {
      "text/plain": [
       "Order({   'asset_class': 'us_equity',\n",
       "    'asset_id': 'b28f4066-5c6d-479b-a2af-85dc1a8f16fb',\n",
       "    'canceled_at': None,\n",
       "    'client_order_id': 'gcos_67288170',\n",
       "    'created_at': '2022-06-30T22:32:14.06976588Z',\n",
       "    'expired_at': None,\n",
       "    'extended_hours': False,\n",
       "    'failed_at': None,\n",
       "    'filled_at': None,\n",
       "    'filled_avg_price': None,\n",
       "    'filled_qty': '0',\n",
       "    'hwm': None,\n",
       "    'id': 'f94bac78-ff4c-4180-a924-56262f95dbfa',\n",
       "    'legs': None,\n",
       "    'limit_price': None,\n",
       "    'notional': '3700',\n",
       "    'order_class': '',\n",
       "    'order_type': 'market',\n",
       "    'qty': None,\n",
       "    'replaced_at': None,\n",
       "    'replaced_by': None,\n",
       "    'replaces': None,\n",
       "    'side': 'buy',\n",
       "    'source': None,\n",
       "    'status': 'accepted',\n",
       "    'stop_price': None,\n",
       "    'submitted_at': '2022-06-30T22:32:14.06845201Z',\n",
       "    'subtag': None,\n",
       "    'symbol': 'SPY',\n",
       "    'time_in_force': 'day',\n",
       "    'trail_percent': None,\n",
       "    'trail_price': None,\n",
       "    'type': 'market',\n",
       "    'updated_at': '2022-06-30T22:32:14.06976588Z'})"
      ]
     },
     "execution_count": 55,
     "metadata": {},
     "output_type": "execute_result"
    }
   ],
   "source": [
    "# Submitting a market buy order by notional value of the whole order\n",
    "symbol = \"SPY\"\n",
    "notional = 3700\n",
    "client_order_id=f\"gcos_{random.randrange(100000000)}\"\n",
    "\n",
    "alpaca.submit_order(symbol, notional=notional, client_order_id=client_order_id)"
   ]
  },
  {
   "cell_type": "markdown",
   "metadata": {
    "id": "kM0vAmI70fsX"
   },
   "source": [
    "### Limit Orders"
   ]
  },
  {
   "cell_type": "markdown",
   "metadata": {
    "id": "maMzLBj4YbKJ"
   },
   "source": [
    "A limit order is an order to buy or sell at a specified price or better. A buy limit order (a limit order to buy) is executed at the specified limit price or lower (i.e., better). Conversely, a sell limit order (a limit order to sell) is executed at the specified limit price or higher (better). Unlike a market order, you have to specify the limit price parameter when submitting your order. \n",
    "\n",
    "A limit order is great if a buyer/seller wants to be particular about the price the order is filled at, but a downside is it may not get filled for a while if there is no one willing to be on the other side of the trade. \n",
    "\n",
    "To submit a limit order, we’ll sell some of the $SPY shares we bought with the previous code example."
   ]
  },
  {
   "cell_type": "code",
   "execution_count": null,
   "metadata": {
    "id": "Xy5Syxraoa5p"
   },
   "outputs": [],
   "source": [
    "# Submitting a limit sell order for $SPY for no less than our limit\n",
    "symbol = \"SPY\"\n",
    "qty = 10\n",
    "side = \"sell\"\n",
    "type = \"limit\"\n",
    "limit_price = 380\n",
    "client_order_id=f\"gcos_{random.randrange(100000000)}\"\n",
    "\n",
    "alpaca.submit_order(\n",
    "                    symbol,\n",
    "                    qty=qty,\n",
    "                    side=side, \n",
    "                    type=type,\n",
    "                    limit_price=limit_price,\n",
    "                    client_order_id=client_order_id\n",
    ")"
   ]
  },
  {
   "cell_type": "markdown",
   "metadata": {
    "id": "6j4BUnyM0yr2"
   },
   "source": [
    "### Stop Orders"
   ]
  },
  {
   "cell_type": "markdown",
   "metadata": {
    "id": "6FSJHlkDYhjm"
   },
   "source": [
    "A stop (market) order is an order to buy or sell a security that only becomes active once its price has reached the specified “stop” price or passed it. For example, a stop order to sell Tesla stock ($TSLA) would trigger once its stock price reaches your stop price or lower. Once the stop order has been triggered, it is converted into a market order and will be filled according to the behavior of a market order. A stop order does not guarantee the order will be filled at a certain price once it is triggered, but it can help.\n",
    "\n",
    "A stop order may be a good choice if you are certain that you want in or out of a position once a security’s price has reached a certain level. To submit a stop order you need to specify the stop price parameter. \n",
    "\n",
    "For this example, we’ll submit a stop order to buy five Telsa shares once its price dips down to $900."
   ]
  },
  {
   "cell_type": "code",
   "execution_count": 57,
   "metadata": {
    "id": "nVfs5kYL0060"
   },
   "outputs": [
    {
     "data": {
      "text/plain": [
       "Order({   'asset_class': 'us_equity',\n",
       "    'asset_id': '8ccae427-5dd0-45b3-b5fe-7ba5e422c766',\n",
       "    'canceled_at': None,\n",
       "    'client_order_id': 'gcos_50097278',\n",
       "    'created_at': '2022-06-30T22:34:13.935778802Z',\n",
       "    'expired_at': None,\n",
       "    'extended_hours': False,\n",
       "    'failed_at': None,\n",
       "    'filled_at': None,\n",
       "    'filled_avg_price': None,\n",
       "    'filled_qty': '0',\n",
       "    'hwm': None,\n",
       "    'id': '42469437-b6fe-420b-8953-d50595ee8d37',\n",
       "    'legs': None,\n",
       "    'limit_price': None,\n",
       "    'notional': None,\n",
       "    'order_class': '',\n",
       "    'order_type': 'stop',\n",
       "    'qty': '5',\n",
       "    'replaced_at': None,\n",
       "    'replaced_by': None,\n",
       "    'replaces': None,\n",
       "    'side': 'buy',\n",
       "    'source': None,\n",
       "    'status': 'pending_new',\n",
       "    'stop_price': '900',\n",
       "    'submitted_at': '2022-06-30T22:34:13.934422113Z',\n",
       "    'subtag': None,\n",
       "    'symbol': 'TSLA',\n",
       "    'time_in_force': 'day',\n",
       "    'trail_percent': None,\n",
       "    'trail_price': None,\n",
       "    'type': 'stop',\n",
       "    'updated_at': '2022-06-30T22:34:13.935847553Z'})"
      ]
     },
     "execution_count": 57,
     "metadata": {},
     "output_type": "execute_result"
    }
   ],
   "source": [
    "# Submitting a stop buy order for $TSLA that is triggered if the share price reaches $900\n",
    "symbol = \"TSLA\"\n",
    "qty = 5\n",
    "type = \"stop\"\n",
    "stop_price = 900\n",
    "client_order_id=f\"gcos_{random.randrange(100000000)}\"\n",
    "\n",
    "alpaca.submit_order(\n",
    "                    symbol,\n",
    "                    qty=qty,\n",
    "                    type=type,\n",
    "                    stop_price=stop_price,\n",
    "                    client_order_id=client_order_id\n",
    ")"
   ]
  },
  {
   "cell_type": "markdown",
   "metadata": {
    "id": "deqdZYBc6T4u"
   },
   "source": [
    "### Stop-Limit Orders"
   ]
  },
  {
   "cell_type": "markdown",
   "metadata": {
    "id": "QWv0wIB9Y1sR"
   },
   "source": [
    "A stop-limit order is a conditional trade over a set time frame that combines the features of a stop order with those of a limit order. The stop-limit order will be executed at a specified limit price or better after a given stop price has been reached. Once the stop price is reached, the stop-limit order becomes a limit order to buy or sell at the limit price. This makes stop-limit orders a great candidate if you’re looking to mitigate risk. \n",
    "\n",
    "An example of this is placing a stop-limit buy order with a stop price of \\$100 and a limit price of \\$102. In this example, if the stock price were to gap down to \\$100 and keep dropping, we would not catch the falling knife. If the stock were to recover from this point and get back up to \\$102, we would open up a long position. As a supplement to this example, we’ll submit a stop-limit buy order for 10 Snapchat (\\$SNAP) shares with a stop price of \\$30 and a limit price of \\$31.50.\n"
   ]
  },
  {
   "cell_type": "code",
   "execution_count": 58,
   "metadata": {
    "id": "h8vpxIQf6VUL"
   },
   "outputs": [
    {
     "data": {
      "text/plain": [
       "Order({   'asset_class': 'us_equity',\n",
       "    'asset_id': '83e52ac1-bb18-4e9f-b68d-dda5a8af3ec0',\n",
       "    'canceled_at': None,\n",
       "    'client_order_id': 'gcos_10596978',\n",
       "    'created_at': '2022-06-30T22:34:17.35769001Z',\n",
       "    'expired_at': None,\n",
       "    'extended_hours': False,\n",
       "    'failed_at': None,\n",
       "    'filled_at': None,\n",
       "    'filled_avg_price': None,\n",
       "    'filled_qty': '0',\n",
       "    'hwm': None,\n",
       "    'id': '7106d9de-e45c-430e-b7a8-9e53bd0f576e',\n",
       "    'legs': None,\n",
       "    'limit_price': '31.5',\n",
       "    'notional': None,\n",
       "    'order_class': '',\n",
       "    'order_type': 'stop_limit',\n",
       "    'qty': '10',\n",
       "    'replaced_at': None,\n",
       "    'replaced_by': None,\n",
       "    'replaces': None,\n",
       "    'side': 'buy',\n",
       "    'source': None,\n",
       "    'status': 'pending_new',\n",
       "    'stop_price': '30',\n",
       "    'submitted_at': '2022-06-30T22:34:17.35623703Z',\n",
       "    'subtag': None,\n",
       "    'symbol': 'SNAP',\n",
       "    'time_in_force': 'day',\n",
       "    'trail_percent': None,\n",
       "    'trail_price': None,\n",
       "    'type': 'stop_limit',\n",
       "    'updated_at': '2022-06-30T22:34:17.3577591Z'})"
      ]
     },
     "execution_count": 58,
     "metadata": {},
     "output_type": "execute_result"
    }
   ],
   "source": [
    "# Submitting a stop-limit buy order for $SNAP that is triggered if the share price reaches $30 with\n",
    "# a limit price set at $31.50\n",
    "symbol = \"SNAP\"\n",
    "qty = 10\n",
    "type = \"stop_limit\"\n",
    "stop_price = 30\n",
    "limit_price = 31.50\n",
    "client_order_id=f\"gcos_{random.randrange(100000000)}\"\n",
    "\n",
    "alpaca.submit_order(\n",
    "                    symbol,\n",
    "                    qty=qty,\n",
    "                    type=type,\n",
    "                    stop_price=stop_price,\n",
    "                    limit_price=limit_price,\n",
    "                    client_order_id=client_order_id\n",
    ")"
   ]
  },
  {
   "cell_type": "markdown",
   "metadata": {
    "id": "YC6jbt-E8BJ9"
   },
   "source": [
    "### Trailing Stop Orders"
   ]
  },
  {
   "cell_type": "markdown",
   "metadata": {
    "id": "DHqow_OfZJaS"
   },
   "source": [
    "A trailing stop order is similar to a stop order, but instead of defining an absolute stop price that your order should trigger at, you define a relative stop price to trigger at. Trailing stop orders allow you to continuously and automatically keep updating the stop price threshold based on the stock price movement. You request an order with a dollar offset value or percentage value as the trail and the actual stop price for this order changes as the stock price moves favorably, or stays at the last level otherwise. This way, you don’t need to monitor the price movement and keep sending replace requests to update the stop price close to the latest market movement.\n",
    "\n",
    "Trailing stop orders keep track of the highest (for sell, lowest for buy) prices (called high-water mark, or hwm) since the order was submitted, and the user-specified trail parameters determine the actual stop price to trigger relative to high-water mark. Once the stop price is triggered, the order turns into a market order and will behave accordingly. Trailing stop orders are good for mitigating risk without having to monitor the ticker frequently. When submitting a trailing stop order, you’ll need to set the type parameter and one of trail_percent or trail_price. \n",
    "\n",
    "As an example, we’ll submit a buy trailing stop order for 10 GameStop ($GME) shares set to follow the price and trigger if it drops to 5% below its high-water mark."
   ]
  },
  {
   "cell_type": "code",
   "execution_count": 59,
   "metadata": {
    "id": "-apiTZ-Q8_o8"
   },
   "outputs": [
    {
     "data": {
      "text/plain": [
       "Order({   'asset_class': 'us_equity',\n",
       "    'asset_id': '9eae922d-8d67-4c40-b6ea-faca9b092b89',\n",
       "    'canceled_at': None,\n",
       "    'client_order_id': 'gcos_31732968',\n",
       "    'created_at': '2022-06-30T22:34:20.645978454Z',\n",
       "    'expired_at': None,\n",
       "    'extended_hours': False,\n",
       "    'failed_at': None,\n",
       "    'filled_at': None,\n",
       "    'filled_avg_price': None,\n",
       "    'filled_qty': '0',\n",
       "    'hwm': '122.3',\n",
       "    'id': '4e76c442-3fb3-4b63-a0dd-80da4d415162',\n",
       "    'legs': None,\n",
       "    'limit_price': None,\n",
       "    'notional': None,\n",
       "    'order_class': '',\n",
       "    'order_type': 'trailing_stop',\n",
       "    'qty': '10',\n",
       "    'replaced_at': None,\n",
       "    'replaced_by': None,\n",
       "    'replaces': None,\n",
       "    'side': 'buy',\n",
       "    'source': None,\n",
       "    'status': 'new',\n",
       "    'stop_price': '128.415',\n",
       "    'submitted_at': '2022-06-30T22:34:20.644314974Z',\n",
       "    'subtag': None,\n",
       "    'symbol': 'GME',\n",
       "    'time_in_force': 'day',\n",
       "    'trail_percent': '5',\n",
       "    'trail_price': None,\n",
       "    'type': 'trailing_stop',\n",
       "    'updated_at': '2022-06-30T22:34:20.645978454Z'})"
      ]
     },
     "execution_count": 59,
     "metadata": {},
     "output_type": "execute_result"
    }
   ],
   "source": [
    "# Submitting a trailing stop buy order for $GME set to trigger 5% under its high water mark. \n",
    "symbol = \"GME\"\n",
    "qty = 10\n",
    "type = \"trailing_stop\"\n",
    "trail_percent = 5\n",
    "client_order_id=f\"gcos_{random.randrange(100000000)}\"\n",
    "\n",
    "alpaca.submit_order(\n",
    "                    symbol,\n",
    "                    qty=qty,\n",
    "                    type=type,\n",
    "                    trail_percent=trail_percent,\n",
    "                    client_order_id=client_order_id\n",
    ")"
   ]
  },
  {
   "cell_type": "markdown",
   "metadata": {
    "id": "2MPFX1wJ74fw"
   },
   "source": [
    "## Advanced Order Types"
   ]
  },
  {
   "cell_type": "markdown",
   "metadata": {
    "id": "Ewz9y-K1aFO9"
   },
   "source": [
    "These more advanced order types are great for investors and traders who are looking to exercise a high level of control over their order execution. This usually involves a series of orders chained together."
   ]
  },
  {
   "cell_type": "markdown",
   "metadata": {
    "id": "JZQyLha89DEf"
   },
   "source": [
    "### Bracket Orders"
   ]
  },
  {
   "cell_type": "markdown",
   "metadata": {
    "id": "tVZpKilDaH6Z"
   },
   "source": [
    "A bracket order is a chain of three orders that can be used to manage your position entry and exit. The first order is used to enter a new long or short position, and once it is completely filled, two conditional exit orders become active. One of the two closing orders is called a take-profit order, which is a limit order, and the other is called a stop-loss order, which is either a stop or stop-limit order. Importantly, only one of the two exit orders can be executed. Once one of the exit orders is filled, the other is canceled. Please note, however, that in extremely volatile and fast market conditions, both orders may fill before the cancellation occurs. \n",
    "\n",
    "Bracket orders are great if you’d like to automate your risk management by removing in-the-moment decision-making. To submit bracket orders with Alpaca, you’ll need to specify that this order is a bracket order with parameter order_class, and then define your take-profit and stop-loss orders with take_profit and stop_loss. Note that your take-profit and stop-loss parameters must be dictionaries. \n",
    "\n",
    "As an example, let’s submit a bracket buy order for Nvidia ($NVDA) stock that will take profit at a 10% gain and stop our losses at 5%."
   ]
  },
  {
   "cell_type": "code",
   "execution_count": 60,
   "metadata": {
    "id": "Uul8Q3_c7_cR"
   },
   "outputs": [
    {
     "data": {
      "text/plain": [
       "Order({   'asset_class': 'us_equity',\n",
       "    'asset_id': '4ce9353c-66d1-46c2-898f-fce867ab0247',\n",
       "    'canceled_at': None,\n",
       "    'client_order_id': 'gcos_57752200',\n",
       "    'created_at': '2022-06-30T22:34:23.552060895Z',\n",
       "    'expired_at': None,\n",
       "    'extended_hours': False,\n",
       "    'failed_at': None,\n",
       "    'filled_at': None,\n",
       "    'filled_avg_price': None,\n",
       "    'filled_qty': '0',\n",
       "    'hwm': None,\n",
       "    'id': 'ac38692f-7b75-4294-a693-5415c4939406',\n",
       "    'legs': [   {   'asset_class': 'us_equity',\n",
       "                    'asset_id': '4ce9353c-66d1-46c2-898f-fce867ab0247',\n",
       "                    'canceled_at': None,\n",
       "                    'client_order_id': '4a6e95a0-ade7-4867-b218-12deed3c25d2',\n",
       "                    'created_at': '2022-06-30T22:34:23.552136855Z',\n",
       "                    'expired_at': None,\n",
       "                    'extended_hours': False,\n",
       "                    'failed_at': None,\n",
       "                    'filled_at': None,\n",
       "                    'filled_avg_price': None,\n",
       "                    'filled_qty': '0',\n",
       "                    'hwm': None,\n",
       "                    'id': '77d67789-1d45-4823-8a91-ca1b098c43e2',\n",
       "                    'legs': None,\n",
       "                    'limit_price': '165',\n",
       "                    'notional': None,\n",
       "                    'order_class': 'bracket',\n",
       "                    'order_type': 'limit',\n",
       "                    'qty': '10',\n",
       "                    'replaced_at': None,\n",
       "                    'replaced_by': None,\n",
       "                    'replaces': None,\n",
       "                    'side': 'sell',\n",
       "                    'source': None,\n",
       "                    'status': 'held',\n",
       "                    'stop_price': None,\n",
       "                    'submitted_at': '2022-06-30T22:34:23.550448755Z',\n",
       "                    'subtag': None,\n",
       "                    'symbol': 'NVDA',\n",
       "                    'time_in_force': 'day',\n",
       "                    'trail_percent': None,\n",
       "                    'trail_price': None,\n",
       "                    'type': 'limit',\n",
       "                    'updated_at': '2022-06-30T22:34:23.552136855Z'},\n",
       "                {   'asset_class': 'us_equity',\n",
       "                    'asset_id': '4ce9353c-66d1-46c2-898f-fce867ab0247',\n",
       "                    'canceled_at': None,\n",
       "                    'client_order_id': '56232f75-c5da-45ff-bf03-c19ee2d1542d',\n",
       "                    'created_at': '2022-06-30T22:34:23.552165475Z',\n",
       "                    'expired_at': None,\n",
       "                    'extended_hours': False,\n",
       "                    'failed_at': None,\n",
       "                    'filled_at': None,\n",
       "                    'filled_avg_price': None,\n",
       "                    'filled_qty': '0',\n",
       "                    'hwm': None,\n",
       "                    'id': 'cb5e7bc0-1431-4489-b6b7-64fe77f383bd',\n",
       "                    'legs': None,\n",
       "                    'limit_price': None,\n",
       "                    'notional': None,\n",
       "                    'order_class': 'bracket',\n",
       "                    'order_type': 'stop',\n",
       "                    'qty': '10',\n",
       "                    'replaced_at': None,\n",
       "                    'replaced_by': None,\n",
       "                    'replaces': None,\n",
       "                    'side': 'sell',\n",
       "                    'source': None,\n",
       "                    'status': 'held',\n",
       "                    'stop_price': '142.5',\n",
       "                    'submitted_at': '2022-06-30T22:34:23.550448755Z',\n",
       "                    'subtag': None,\n",
       "                    'symbol': 'NVDA',\n",
       "                    'time_in_force': 'day',\n",
       "                    'trail_percent': None,\n",
       "                    'trail_price': None,\n",
       "                    'type': 'stop',\n",
       "                    'updated_at': '2022-06-30T22:34:23.552165475Z'}],\n",
       "    'limit_price': '150',\n",
       "    'notional': None,\n",
       "    'order_class': 'bracket',\n",
       "    'order_type': 'limit',\n",
       "    'qty': '10',\n",
       "    'replaced_at': None,\n",
       "    'replaced_by': None,\n",
       "    'replaces': None,\n",
       "    'side': 'buy',\n",
       "    'source': None,\n",
       "    'status': 'accepted',\n",
       "    'stop_price': None,\n",
       "    'submitted_at': '2022-06-30T22:34:23.550448755Z',\n",
       "    'subtag': None,\n",
       "    'symbol': 'NVDA',\n",
       "    'time_in_force': 'day',\n",
       "    'trail_percent': None,\n",
       "    'trail_price': None,\n",
       "    'type': 'limit',\n",
       "    'updated_at': '2022-06-30T22:34:23.552060895Z'})"
      ]
     },
     "execution_count": 60,
     "metadata": {},
     "output_type": "execute_result"
    }
   ],
   "source": [
    "# A bracket buy order for $NVDA that takes profit at a 10% gain, or submits a market sell at -5% loss\n",
    "symbol = \"NVDA\"\n",
    "qty = 10\n",
    "type = \"limit\"\n",
    "limit_price = 150\n",
    "order_class = \"bracket\"\n",
    "take_profit = {\"limit_price\": limit_price * 1.10}    # 10% gain sets this value to $275\n",
    "stop_loss = {\"stop_price\": limit_price * 0.95}       # 5% loss sets this value to $237.50\n",
    "client_order_id=f\"gcos_{random.randrange(100000000)}\"\n",
    "\n",
    "alpaca.submit_order(\n",
    "                    symbol,\n",
    "                    qty=qty, \n",
    "                    type=type,\n",
    "                    limit_price=limit_price, \n",
    "                    order_class=order_class,\n",
    "                    take_profit=take_profit,\n",
    "                    stop_loss=stop_loss,\n",
    "                    client_order_id=client_order_id\n",
    ")"
   ]
  },
  {
   "cell_type": "markdown",
   "metadata": {
    "id": "h9LYY80n9Fms"
   },
   "source": [
    "### One-Cancels-Other Orders (OCO)"
   ]
  },
  {
   "cell_type": "markdown",
   "metadata": {
    "id": "Y_Sq4nNxaX_v"
   },
   "source": [
    "One-Cancels-Other (OCO) orders are another type of advanced order type. This is a set of two orders with the same (buy/buy or sell/sell) where if one of the orders gets filled, the other one will cancel. In other words, this is the second part of the bracket orders where the entry order is already filled, and you can submit the take-profit and stop-loss in one order submission. Currently, only OCO orders to exit a position are supported. \n",
    "\n",
    "OCO orders are great if you have an open position and you’d like to set a specific exit for your position, mitigating your risk and making your decision in advance. \n",
    "\n",
    "In this example, we’ll submit an OCO order to exit a long position in $SPY by setting the order_class, take_profit, and stop_loss parameters. Just like in bracket orders, your take-profit and stop-loss parameters must be dictionaries. "
   ]
  },
  {
   "cell_type": "code",
   "execution_count": null,
   "metadata": {
    "id": "W2eIjYo79LBM"
   },
   "outputs": [],
   "source": [
    "# An OCO exit order for $SPY that takes profit at $465 and cuts losses with a stop-limit at $450\n",
    "symbol = \"SPY\"\n",
    "qty = 5\n",
    "side = \"sell\"\n",
    "type = \"limit\"\n",
    "order_class = \"oco\"\n",
    "take_profit = {\"limit_price\": 465}\n",
    "stop_loss = {\"stop_price\": 450, \"limit_price\": 450}\n",
    "client_order_id=f\"gcos_{random.randrange(100000000)}\"\n",
    "\n",
    "alpaca.submit_order(\n",
    "                    symbol,\n",
    "                    qty=qty,\n",
    "                    side=side,\n",
    "                    type=type,\n",
    "                    order_class=order_class,\n",
    "                    take_profit=take_profit,\n",
    "                    stop_loss=stop_loss,\n",
    "                    client_order_id=client_order_id\n",
    ")"
   ]
  },
  {
   "cell_type": "markdown",
   "metadata": {
    "id": "8B9XXeJ_9Ll2"
   },
   "source": [
    "### One-Triggers-Other Orders (OTO)"
   ]
  },
  {
   "cell_type": "markdown",
   "metadata": {
    "id": "GyDd7z8kac00"
   },
   "source": [
    "One-Triggers-Other (OTO) orders are a variant of bracket orders. While it keeps the initial order that opens your position, OTO orders only have one of either a take-profit or stop-loss. \n",
    "\n",
    "A good use-case for an OTO order would be if you want to go long on a stock with no precise target for profit, but you know the maximum you’re willing to risk losing. \n",
    "\n",
    "Putting that use-case into code, we’ll go long on Apple (\\$AAPL) by submitting an OTO order with a market buy for 5 stocks that triggers a stop-loss at \\$160."
   ]
  },
  {
   "cell_type": "code",
   "execution_count": 62,
   "metadata": {
    "id": "sy3BogwA9N7L"
   },
   "outputs": [
    {
     "data": {
      "text/plain": [
       "Order({   'asset_class': 'us_equity',\n",
       "    'asset_id': 'b0b6dd9d-8b9b-48a9-ba46-b9d54906e415',\n",
       "    'canceled_at': None,\n",
       "    'client_order_id': 'gcos_85935678',\n",
       "    'created_at': '2022-06-30T22:34:32.434877353Z',\n",
       "    'expired_at': None,\n",
       "    'extended_hours': False,\n",
       "    'failed_at': None,\n",
       "    'filled_at': None,\n",
       "    'filled_avg_price': None,\n",
       "    'filled_qty': '0',\n",
       "    'hwm': None,\n",
       "    'id': 'a997454e-f6fe-4588-be39-72712bbc1afc',\n",
       "    'legs': [   {   'asset_class': 'us_equity',\n",
       "                    'asset_id': 'b0b6dd9d-8b9b-48a9-ba46-b9d54906e415',\n",
       "                    'canceled_at': None,\n",
       "                    'client_order_id': '85d7a5a5-3305-4bb3-b676-483858baf02b',\n",
       "                    'created_at': '2022-06-30T22:34:32.434944233Z',\n",
       "                    'expired_at': None,\n",
       "                    'extended_hours': False,\n",
       "                    'failed_at': None,\n",
       "                    'filled_at': None,\n",
       "                    'filled_avg_price': None,\n",
       "                    'filled_qty': '0',\n",
       "                    'hwm': None,\n",
       "                    'id': '99bb2907-af73-42a8-93f9-65cb7d345be7',\n",
       "                    'legs': None,\n",
       "                    'limit_price': None,\n",
       "                    'notional': None,\n",
       "                    'order_class': 'oto',\n",
       "                    'order_type': 'stop',\n",
       "                    'qty': '5',\n",
       "                    'replaced_at': None,\n",
       "                    'replaced_by': None,\n",
       "                    'replaces': None,\n",
       "                    'side': 'sell',\n",
       "                    'source': None,\n",
       "                    'status': 'held',\n",
       "                    'stop_price': '130',\n",
       "                    'submitted_at': '2022-06-30T22:34:32.433912493Z',\n",
       "                    'subtag': None,\n",
       "                    'symbol': 'AAPL',\n",
       "                    'time_in_force': 'day',\n",
       "                    'trail_percent': None,\n",
       "                    'trail_price': None,\n",
       "                    'type': 'stop',\n",
       "                    'updated_at': '2022-06-30T22:34:32.434944233Z'}],\n",
       "    'limit_price': None,\n",
       "    'notional': None,\n",
       "    'order_class': 'oto',\n",
       "    'order_type': 'market',\n",
       "    'qty': '5',\n",
       "    'replaced_at': None,\n",
       "    'replaced_by': None,\n",
       "    'replaces': None,\n",
       "    'side': 'buy',\n",
       "    'source': None,\n",
       "    'status': 'accepted',\n",
       "    'stop_price': None,\n",
       "    'submitted_at': '2022-06-30T22:34:32.433912493Z',\n",
       "    'subtag': None,\n",
       "    'symbol': 'AAPL',\n",
       "    'time_in_force': 'day',\n",
       "    'trail_percent': None,\n",
       "    'trail_price': None,\n",
       "    'type': 'market',\n",
       "    'updated_at': '2022-06-30T22:34:32.434877353Z'})"
      ]
     },
     "execution_count": 62,
     "metadata": {},
     "output_type": "execute_result"
    }
   ],
   "source": [
    "# An OTO order for $AAPL featuring a market buy for 5 stocks that triggers a stop loss at $130\n",
    "symbol = \"AAPL\"\n",
    "qty = 5\n",
    "order_class = \"oto\"\n",
    "stop_loss = {\"stop_price\": 130}\n",
    "client_order_id=f\"gcos_{random.randrange(100000000)}\"\n",
    "\n",
    "alpaca.submit_order(\n",
    "                    symbol,\n",
    "                    qty=qty, \n",
    "                    order_class=order_class,\n",
    "                    stop_loss=stop_loss,\n",
    "                    client_order_id=client_order_id\n",
    ")"
   ]
  },
  {
   "cell_type": "markdown",
   "metadata": {
    "id": "wl0Fjwvr9P3F"
   },
   "source": [
    "## Time in Force"
   ]
  },
  {
   "cell_type": "markdown",
   "metadata": {
    "id": "1d_GrubSakv2"
   },
   "source": [
    "Time in force is a special designation that can be used to specify the conditions under which your order will expire. Every order must have a time in force designation. If there is not one explicitly defined, the default value is day. The parameter in `submit_order` for time in force is called `time_in_force`, and there are 6 options to choose from."
   ]
  },
  {
   "cell_type": "markdown",
   "metadata": {
    "id": "wDY2WLtS0aSW"
   },
   "source": [
    "### Day (`day`)"
   ]
  },
  {
   "cell_type": "markdown",
   "metadata": {
    "id": "xycLkneZatdd"
   },
   "source": [
    "A day order is eligible for execution only on the day it is live. By default, the order is only valid during Regular Trading Hours (9:30am - 4:00pm ET). If unfilled after the closing auction, it is automatically canceled. If submitted after the close, it is queued and submitted the following trading day. However, if marked as eligible for extended hours, the order can also execute during supported extended hours. \n",
    "\n",
    "As an example, we’ll submit a limit buy order for Spotify ($SPOT) stock that will expire at the end of the day in hopes that the price will dip before then.\n"
   ]
  },
  {
   "cell_type": "code",
   "execution_count": 63,
   "metadata": {
    "id": "IAX_bZth9Ud_"
   },
   "outputs": [
    {
     "data": {
      "text/plain": [
       "Order({   'asset_class': 'us_equity',\n",
       "    'asset_id': '39a26dc1-927a-4590-b103-b8068a013e7f',\n",
       "    'canceled_at': None,\n",
       "    'client_order_id': 'gcos_62599409',\n",
       "    'created_at': '2022-06-30T22:34:35.601566452Z',\n",
       "    'expired_at': None,\n",
       "    'extended_hours': False,\n",
       "    'failed_at': None,\n",
       "    'filled_at': None,\n",
       "    'filled_avg_price': None,\n",
       "    'filled_qty': '0',\n",
       "    'hwm': None,\n",
       "    'id': '255e7654-8820-4585-bbe9-933d016ba6dd',\n",
       "    'legs': None,\n",
       "    'limit_price': '30',\n",
       "    'notional': None,\n",
       "    'order_class': '',\n",
       "    'order_type': 'limit',\n",
       "    'qty': '10',\n",
       "    'replaced_at': None,\n",
       "    'replaced_by': None,\n",
       "    'replaces': None,\n",
       "    'side': 'buy',\n",
       "    'source': None,\n",
       "    'status': 'accepted',\n",
       "    'stop_price': None,\n",
       "    'submitted_at': '2022-06-30T22:34:35.599876801Z',\n",
       "    'subtag': None,\n",
       "    'symbol': 'SPOT',\n",
       "    'time_in_force': 'day',\n",
       "    'trail_percent': None,\n",
       "    'trail_price': None,\n",
       "    'type': 'limit',\n",
       "    'updated_at': '2022-06-30T22:34:35.601566452Z'})"
      ]
     },
     "execution_count": 63,
     "metadata": {},
     "output_type": "execute_result"
    }
   ],
   "source": [
    "# Submitting a limit buy for Spotify stock that will expire at the end of the day\n",
    "symbol = \"SPOT\"\n",
    "qty = 10\n",
    "type = \"limit\"\n",
    "time_in_force = \"day\"\n",
    "limit_price = 30\n",
    "client_order_id=f\"gcos_{random.randrange(100000000)}\"\n",
    "\n",
    "alpaca.submit_order(\n",
    "                    symbol,\n",
    "                    qty=qty,\n",
    "                    type=type, \n",
    "                    time_in_force=time_in_force,\n",
    "                    limit_price=limit_price,\n",
    "                    client_order_id=client_order_id\n",
    ")"
   ]
  },
  {
   "cell_type": "markdown",
   "metadata": {
    "id": "WHScs3gY4tKm"
   },
   "source": [
    "### Good-Til-Canceled (`gtc`)"
   ]
  },
  {
   "cell_type": "markdown",
   "metadata": {
    "id": "J3IvDpYUawy7"
   },
   "source": [
    "As the name suggests, this designation means that the order is active until it’s filled or canceled. Non-marketable GTC limit orders are subject to price adjustments to offset corporate actions affecting the issue. We do not currently support Do Not Reduce(DNR) orders to opt out of such price adjustments. This could be a good option if you have a long-term price target that you want to enter/exit at. \n",
    "\n",
    "For example, if we were fearful that our long position in $SPY might suffer a large, sudden dip, we can submit a stop sell order that will be good until we cancel it. This helps mitigate risk without having to actively monitor the position.\n"
   ]
  },
  {
   "cell_type": "code",
   "execution_count": null,
   "metadata": {
    "id": "VqeDSwO142X6"
   },
   "outputs": [],
   "source": [
    "# Submitting a stop sell order for $SPY that will remain active until filled or canceled\n",
    "symbol = \"SPY\"\n",
    "qty = 10\n",
    "side = \"sell\"\n",
    "type = \"stop\"\n",
    "time_in_force = \"gtc\"\n",
    "stop_price = 370\n",
    "client_order_id=f\"gcos_{random.randrange(100000000)}\"\n",
    "\n",
    "alpaca.submit_order(\n",
    "                    symbol,\n",
    "                    qty=qty,\n",
    "                    side=side,\n",
    "                    type=type, \n",
    "                    time_in_force=time_in_force,\n",
    "                    stop_price=stop_price,\n",
    "                    client_order_id=client_order_id\n",
    ")"
   ]
  },
  {
   "cell_type": "markdown",
   "metadata": {
    "id": "EBeJ11QX42pi"
   },
   "source": [
    "### Submit On Market Open (`opg`)"
   ]
  },
  {
   "cell_type": "markdown",
   "metadata": {
    "id": "7Kvbw_FDa0vU"
   },
   "source": [
    "This TIF designates that this order is eligible to execute only in the market opening auction. Use this TIF with a market/limit order type to submit “market on open” (MOO) and “limit on open” (LOO) orders. Any unfilled orders after the open will be canceled. OPG orders submitted after 9:28am but before 7:00pm ET will be rejected. OPG orders submitted after 7:00pm will be queued and routed to the following day’s opening auction. On open/on close orders are routed to the primary exchange. Such orders do not necessarily execute exactly at 9:30am / 4:00pm ET but execute per the exchange’s auction rules. \n",
    "\n",
    "For example, if you anticipate a really great/awful day for your favorite stock following today and the markets are currently closed, you can submit this order and have your order executed as soon as possible. In this case, we’ll submit a market buy for Palantir ($PLTR) to execute right at tomorrow’s open.\n"
   ]
  },
  {
   "cell_type": "code",
   "execution_count": null,
   "metadata": {
    "colab": {
     "base_uri": "https://localhost:8080/"
    },
    "id": "XXo_egUH48Eu",
    "outputId": "fecc0933-2e88-476a-b32c-074402c01c1c"
   },
   "outputs": [],
   "source": [
    "# Submitting a market buy for Palantir that will execute on the following market opening day\n",
    "symbol = \"PLTR\"\n",
    "qty = 25\n",
    "time_in_force = \"opg\"\n",
    "client_order_id=f\"gcos_{random.randrange(100000000)}\"\n",
    "\n",
    "alpaca.submit_order(\n",
    "                    symbol,\n",
    "                    qty=qty,\n",
    "                    time_in_force=time_in_force,\n",
    "                    client_order_id=client_order_id\n",
    ")"
   ]
  },
  {
   "cell_type": "markdown",
   "metadata": {
    "id": "ioUtEvk_5ILC"
   },
   "source": [
    "### Submit On Market Close (`cls`)"
   ]
  },
  {
   "cell_type": "markdown",
   "metadata": {
    "id": "D0827mDha6Ah"
   },
   "source": [
    "This TIF designates that this order is eligible to execute only in the market closing auction. Use this TIF with a market/limit order type to submit “market on close” (MOC) and “limit on close” (LOC) orders. Any unfilled orders after the close will be canceled. CLS orders submitted after 3:50pm but before 7:00pm ET will be rejected. CLS orders submitted after 7:00pm will be queued and routed to the following day’s closing auction.\n",
    "\n",
    "One scenario where one may want to use this TIF is if although the security in question has been trending downwards today, they anticipate a positive/negative move after an earnings report after market close. This way, you’ll be sure to get the best price possible and open your position up. As an example, we’ll short AMC ($AMC) by submitting a market sell that will execute at the end of the current day.\n"
   ]
  },
  {
   "cell_type": "code",
   "execution_count": null,
   "metadata": {
    "id": "V5I66kuC5Lln"
   },
   "outputs": [],
   "source": [
    "# Submitting a market sell for AMC that will execute at the end of the current day\n",
    "symbol = \"AMC\"\n",
    "qty = 100\n",
    "side = \"sell\"\n",
    "time_in_force = \"cls\"\n",
    "client_order_id=f\"gcos_{random.randrange(100000000)}\"\n",
    "\n",
    "alpaca.submit_order(\n",
    "                    symbol,\n",
    "                    qty=qty,\n",
    "                    side=side,\n",
    "                    time_in_force=time_in_force,\n",
    "                    client_order_id=client_order_id\n",
    ")"
   ]
  },
  {
   "cell_type": "markdown",
   "metadata": {
    "id": "USL9lWJ95L8u"
   },
   "source": [
    "### Immediate-Or-Cancel (`ioc`)"
   ]
  },
  {
   "cell_type": "markdown",
   "metadata": {
    "id": "eqn1-wMEbjQ6"
   },
   "source": [
    "An Immediate Or Cancel (IOC) order requires all or part of the order to be executed immediately. Any unfilled portion of the order is canceled. Most market makers who receive IOC orders will attempt to fill the order on a principal basis only and cancel any unfilled balance. On occasion, this can result in the entire order being canceled if the market maker does not have any existing inventory of the security in question.\n",
    "\n",
    "One reason you may want to use IOC is if you want to enter/exit a position and don’t have time to wait for it to fill. Here we’ll submit a limit buy for Netflix ($NFLX) for a little bit under its current value, hoping that we can snag some shares for a small discount and get the rest of our money back.\n"
   ]
  },
  {
   "cell_type": "code",
   "execution_count": 67,
   "metadata": {
    "id": "y95BxFS85S9g"
   },
   "outputs": [
    {
     "data": {
      "text/plain": [
       "Order({   'asset_class': 'us_equity',\n",
       "    'asset_id': 'bb2a26c0-4c77-4801-8afc-82e8142ac7b8',\n",
       "    'canceled_at': None,\n",
       "    'client_order_id': 'gcos_66212242',\n",
       "    'created_at': '2022-06-30T22:35:01.639675043Z',\n",
       "    'expired_at': None,\n",
       "    'extended_hours': False,\n",
       "    'failed_at': None,\n",
       "    'filled_at': None,\n",
       "    'filled_avg_price': None,\n",
       "    'filled_qty': '0',\n",
       "    'hwm': None,\n",
       "    'id': '56789768-790d-4e3c-bcd7-288d720d36ab',\n",
       "    'legs': None,\n",
       "    'limit_price': '400',\n",
       "    'notional': None,\n",
       "    'order_class': '',\n",
       "    'order_type': 'limit',\n",
       "    'qty': '10',\n",
       "    'replaced_at': None,\n",
       "    'replaced_by': None,\n",
       "    'replaces': None,\n",
       "    'side': 'buy',\n",
       "    'source': None,\n",
       "    'status': 'accepted',\n",
       "    'stop_price': None,\n",
       "    'submitted_at': '2022-06-30T22:35:01.638269654Z',\n",
       "    'subtag': None,\n",
       "    'symbol': 'NFLX',\n",
       "    'time_in_force': 'ioc',\n",
       "    'trail_percent': None,\n",
       "    'trail_price': None,\n",
       "    'type': 'limit',\n",
       "    'updated_at': '2022-06-30T22:35:01.639675043Z'})"
      ]
     },
     "execution_count": 67,
     "metadata": {},
     "output_type": "execute_result"
    }
   ],
   "source": [
    "# Submitting a limit buy for Netflix that with the IOC time in force designation\n",
    "symbol = \"NFLX\"\n",
    "qty = 10\n",
    "type =\"limit\"\n",
    "time_in_force = \"ioc\"\n",
    "limit_price = 400\n",
    "client_order_id=f\"gcos_{random.randrange(100000000)}\"\n",
    "\n",
    "alpaca.submit_order(\n",
    "                    symbol,\n",
    "                    qty=qty,\n",
    "                    type=type,\n",
    "                    time_in_force=time_in_force,\n",
    "                    limit_price=limit_price,\n",
    "                    client_order_id=client_order_id\n",
    ")"
   ]
  },
  {
   "cell_type": "markdown",
   "metadata": {
    "id": "ewEZNR0k5TPw"
   },
   "source": [
    "### Fill-Or-Kill (`fok`)"
   ]
  },
  {
   "cell_type": "markdown",
   "metadata": {
    "id": "UDObPYoGbx3d"
   },
   "source": [
    "A Fill or Kill (FOK) order is only executed if the entire order quantity can be filled, otherwise, the order is canceled. This TIF is similar to Immediate-Or-Cancel but the key difference is that the whole order must be filled. This can make FOK orders simpler to think about because the only two outcomes are that every share and all money is exchanged, or none of those are.\n",
    "\n",
    "One reason you may want to use FOK is if you want to ensure that your order resolves immediately. As an example, we’ll try to sell some Tesla ($TSLA) stock with a FOK limit sell at a price just a little above the latest ask price.\n"
   ]
  },
  {
   "cell_type": "code",
   "execution_count": null,
   "metadata": {
    "id": "tl4X6XhPDs45"
   },
   "outputs": [],
   "source": [
    "# Submitting a limit sell for Tesla using FOK to ensure immediate execution\n",
    "symbol = \"TSLA\"\n",
    "qty = 5\n",
    "type =\"limit\"\n",
    "side = \"sell\"\n",
    "time_in_force = \"fok\"\n",
    "limit_price = 920\n",
    "client_order_id=f\"gcos_{random.randrange(100000000)}\"\n",
    "\n",
    "alpaca.submit_order(\n",
    "                    symbol,\n",
    "                    qty=qty,\n",
    "                    type=type,\n",
    "                    side=side,\n",
    "                    time_in_force=time_in_force,\n",
    "                    limit_price=limit_price,\n",
    "                    client_order_id=client_order_id\n",
    ")"
   ]
  }
 ],
 "metadata": {
  "colab": {
   "collapsed_sections": [
    "ssOECn4Z0t9K",
    "Mm-p2e_m0bJw",
    "kM0vAmI70fsX",
    "6j4BUnyM0yr2",
    "deqdZYBc6T4u",
    "YC6jbt-E8BJ9",
    "2MPFX1wJ74fw",
    "JZQyLha89DEf",
    "h9LYY80n9Fms",
    "8B9XXeJ_9Ll2",
    "wl0Fjwvr9P3F",
    "wDY2WLtS0aSW",
    "WHScs3gY4tKm",
    "EBeJ11QX42pi",
    "ioUtEvk_5ILC",
    "USL9lWJ95L8u",
    "ewEZNR0k5TPw"
   ],
   "name": "AlpacaOrderTypeABCs.ipynb",
   "provenance": []
  },
  "kernelspec": {
   "display_name": "Python 3",
   "language": "python",
   "name": "python3"
  },
  "language_info": {
   "codemirror_mode": {
    "name": "ipython",
    "version": 3
   },
   "file_extension": ".py",
   "mimetype": "text/x-python",
   "name": "python",
   "nbconvert_exporter": "python",
   "pygments_lexer": "ipython3",
   "version": "3.7.6"
  }
 },
 "nbformat": 4,
 "nbformat_minor": 1
}
