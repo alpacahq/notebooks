{
  "cells": [
    {
      "cell_type": "markdown",
      "metadata": {
        "id": "NG5gpBjX-__p"
      },
      "source": [
        "# How to Build a Crypto Algorithmic Trading Bot in 6 Steps"
      ]
    },
    {
      "cell_type": "markdown",
      "metadata": {
        "id": "ZyMT9CHeDprl"
      },
      "source": [
        "# Introduction\n",
        "\n",
        "In this tutorial, we’ll be using Alpaca and Python to create a fully scalable algorithmic crypto trading bot that can execute in your sleep. The strategy that will be used is based on the popular Supertrend indicator.\n",
        "\n",
        "Without further ado, let’s get started!"
      ]
    },
    {
      "cell_type": "markdown",
      "metadata": {
        "id": "wSx_8JtmD6zf"
      },
      "source": [
        "# Getting Started"
      ]
    },
    {
      "cell_type": "markdown",
      "metadata": {
        "id": "duGTKyan6REV"
      },
      "source": [
        "**Download Dependencies**\n",
        "\n",
        "First, we must pip install (download) the required dependencies for the program. These dependencies are what make it possible to collect and calculate the data we need to build the trading bot."
      ]
    },
    {
      "cell_type": "code",
      "execution_count": null,
      "metadata": {
        "id": "lXO962MFiue1"
      },
      "outputs": [],
      "source": [
        "%%capture\n",
        "!pip install alpaca-trade-api"
      ]
    },
    {
      "cell_type": "markdown",
      "metadata": {
        "id": "wet90tajzmPd"
      },
      "source": [
        "**Import Modules**\n",
        "\n",
        "We’ll need to import all of the required dependencies we’ll be using in the bot including smtplib for email communication, pandas-ta for the calculation of the supertrend indicator, and alpaca-trade-api for live market data and paper trading account access."
      ]
    },
    {
      "cell_type": "code",
      "execution_count": null,
      "metadata": {
        "id": "cOuzqwBsmw5D"
      },
      "outputs": [],
      "source": [
        "# Import Dependencies\n",
        "import smtplib\n",
        "import pandas as pd\n",
        "import pandas_ta as ta\n",
        "import alpaca_trade_api as tradeapi\n",
        "from email.mime.text import MIMEText\n",
        "from email.mime.multipart import MIMEMultipart"
      ]
    },
    {
      "cell_type": "markdown",
      "metadata": {
        "id": "jEX4amGqzqyR"
      },
      "source": [
        "**Setup REST API and Declare Variables**\n",
        "\n",
        "The next step is to define most of the general variables we’ll be needing throughout the program. For the API and Secret keys, you can paste the values you stored from step 1 of this tutorial when creating an Alpaca account. \n",
        "\n",
        "For the trading strategy, we’ll be buying and selling Bitcoin and each transaction will consist of 1 quantity."
      ]
    },
    {
      "cell_type": "code",
      "execution_count": null,
      "metadata": {
        "id": "h8K2Zk68-wvr"
      },
      "outputs": [],
      "source": [
        "# API Credentials\n",
        "API_KEY = 'APCA-API-KEY-ID'\n",
        "SECRET_KEY = 'APCA-API-SECRET-KEY'\n",
        "api = tradeapi.REST(API_KEY, SECRET_KEY,'https://paper-api.alpaca.markets')\n",
        "\n",
        "# Define crypto related variables\n",
        "symbol = 'BTCUSD'\n",
        "qty_per_trade = 1"
      ]
    },
    {
      "cell_type": "markdown",
      "metadata": {
        "id": "-UZbX3CEEfcb"
      },
      "source": [
        "**Create Function to Check Account Positions**\n",
        "\n",
        "Next, we have to create a function to check whether the trading account currently holds any Bitcoin. If it does, we can return the quantity of Bitcoin that is being held. If there is no Bitcoin, then the function will just return 0.\n",
        "\n",
        "This is important because, in the next function which handles the buying and selling, we can focus on buying only if there is currently no Bitcoin in the account. Otherwise, we’ll monitor the sell signal to see if the position should be closed."
      ]
    },
    {
      "cell_type": "code",
      "execution_count": null,
      "metadata": {
        "id": "zbq6buCh-yiD"
      },
      "outputs": [],
      "source": [
        "# Check Whether Account Currently Holds Symbol\n",
        "def check_positions(symbol):\n",
        "    positions = api.list_positions()\n",
        "    for p in positions:\n",
        "        if p.symbol == symbol:\n",
        "            return float(p.qty)\n",
        "    return 0"
      ]
    },
    {
      "cell_type": "markdown",
      "metadata": {
        "id": "bLGXW9QxEmvp"
      },
      "source": [
        "**Create Function to Trade Bitcoin**\n",
        "\n",
        "Finally, we can create a function to retrieve the data, calculate the supertrend indicator signals, and execute the buy/sell orders. First, the function takes in an input of bar data which then gets converted into a dataframe to be further manipulated. Using the pandas-ta module discussed earlier, we can calculate the supertrend indicator as a column and concatenate it to the dataframe with pricing information.\n",
        "\n",
        "If the closing price is above the supertrend indicator, then a buy signal is issued. If the closing price is below the supertrend indicator, then a sell signal is issued. So by using the latest values from the dataframe, we can create boolean values for buy and sell signals.\n",
        "\n",
        "We can set the code to buy 1 quantity of Bitcoin if there is currently no position and if a buy signal is true. Likewise, we can set the code to sell 1 quantity of Bitcoin if there is currently a position and if a sell signal is true.\n",
        "\n",
        "Wrapping the entire function in a try/except block ensures that the program will not break due to errors, and will simply print out the error message. Since this is a trading bot and is intended to run throughout market hours, it’s best if the program is continuously running."
      ]
    },
    {
      "cell_type": "code",
      "execution_count": null,
      "metadata": {
        "id": "xWj_bfE3-1bO"
      },
      "outputs": [],
      "source": [
        "# Supertrend Indicator Bot Function\n",
        "def supertrend_bot(bar):\n",
        "    try:\n",
        "        # Get the Latest Data\n",
        "        dataframe = api.get_crypto_bars(symbol, tradeapi.TimeFrame(1, tradeapi.TimeFrameUnit.Minute)).df\n",
        "        dataframe = dataframe[dataframe.exchange == 'CBSE']\n",
        "        sti = ta.supertrend(dataframe['high'], dataframe['low'], dataframe['close'], 7, 3)\n",
        "        dataframe = pd.concat([dataframe, sti], axis=1)\n",
        "\n",
        "        position = check_positions(symbol=symbol)\n",
        "        should_buy = bar['c'] > dataframe[\"SUPERT_7_3.0\"][-1]\n",
        "        should_sell = bar['c'] < dataframe[\"SUPERT_7_3.0\"][-1]\n",
        "        print(f\"Price: {dataframe.close[-1]}\")\n",
        "        print(\"Super Trend Indicator: {}\".format(dataframe[\"SUPERT_7_3.0\"][-1]))\n",
        "        print(f\"Position: {position} | Should Buy: {should_buy}\")\n",
        "\n",
        "        # Check if No Position and Buy Signal is True\n",
        "        if position == 0 and should_buy == True:\n",
        "            api.submit_order(symbol, qty=qty_per_trade, side='buy')\n",
        "            message = f'Symbol: {symbol} | Side: Buy | Quantity: {qty_per_trade}'\n",
        "            print(message)\n",
        "            send_mail(message)\n",
        "\n",
        "        # Check if Long Position and Sell Signal is True\n",
        "        elif position > 0 and should_sell == True:\n",
        "            api.submit_order(symbol, qty=qty_per_trade, side='sell')\n",
        "            message = f'Symbol: {symbol} | Side: Sell | Quantity: {qty_per_trade}'\n",
        "            print(message)\n",
        "            send_mail(message)\n",
        "        print(\"-\"*20)\n",
        "\n",
        "    except Exception as e:\n",
        "        print (e)\n",
        "        send_mail(f\"Trading Bot failed due to {e}\")"
      ]
    },
    {
      "cell_type": "markdown",
      "metadata": {
        "id": "BgrSIbJcEslI"
      },
      "source": [
        "**Create Function for Sending Emails**\n",
        "\n",
        "A critical aspect of any algorithmic trading system is having a built-in communication system where updates can be sent about any potential errors, transactions, or status. With Python, it’s extremely easy to set up email messaging using the packages email and smtplib.\n",
        "The first step is to set the variables for the sending and receiving emails. The email that is sending the messages must have the setting “Less Secure Apps” set to be off. Due to security reasons, it’s for the best if you create an entirely new email just for this trading strategy.\n",
        "\n",
        "Next, we can set the “from” tag equal to the algorithm name, subject title equal to our bot, and mail content using the input of text for the function. Using smtplib, we can access the gmail server, log in using the credentials given, and send the email message. You can now uncomment all of the send_mail function calls from the previous step!"
      ]
    },
    {
      "cell_type": "code",
      "execution_count": null,
      "metadata": {
        "id": "6z27DvUH-2ye"
      },
      "outputs": [],
      "source": [
        "# Send an Update Email After Every Trade\n",
        "def send_mail(message_text):\n",
        "    # Define email related variables\n",
        "    sender_email = '***********'\n",
        "    sender_password = '***********'\n",
        "    receiver_email = '***********'\n",
        "\n",
        "    # Create a multipart message and set headers\n",
        "    message = MIMEMultipart()\n",
        "    message['From'] = 'Crypto Trading Algorithm'\n",
        "    message['To'] = receiver_email\n",
        "    message['Subject'] = 'Supertrend Indicator Bot'\n",
        "\n",
        "    # Add body to email and send\n",
        "    mail_content = message_text\n",
        "    message.attach(MIMEText(mail_content, 'plain'))\n",
        "    session = smtplib.SMTP('smtp.gmail.com', 587)\n",
        "    session.starttls()\n",
        "    session.login(sender_email, sender_password)\n",
        "    text = message.as_string()\n",
        "    session.sendmail(sender_email, receiver_email, text)\n",
        "    session.quit()\n",
        "    print ('Mail Sent')\n",
        "\n",
        "    return {\"Success\": True}"
      ]
    },
    {
      "cell_type": "markdown",
      "metadata": {
        "id": "Hcuv8j9YExr9"
      },
      "source": [
        "**Set Up Alpaca Live Crypto Data**\n",
        "\n",
        "The last step of building the Python bot is to start streaming live market data for Bitcoin from Alpaca. Fortunately, Alpaca makes this process extremely easy. \n",
        "\n",
        "First, we have to create an instance of the data streaming API by calling the Stream method in which we pass the API keys. We can also specify that we want raw data only from the Coinbase exchange. Then, we can create an asynchronous function to receive the live bar data and within this function, we can call the supertrend_bot function we made in step 2. \n",
        "\n",
        "Here, we can send an email that the trading bot is now live, subscribe to crypto data, and start streaming live data!"
      ]
    },
    {
      "cell_type": "code",
      "execution_count": null,
      "metadata": {
        "id": "tSJ6lfr7-5bG"
      },
      "outputs": [],
      "source": [
        "# Create instance of Alpaca data streaming API\n",
        "alpaca_stream = tradeapi.Stream(API_KEY, SECRET_KEY, raw_data=True, crypto_exchanges=['CBSE'])\n",
        "\n",
        "# Create handler for receiving live bar data\n",
        "async def on_crypto_bar(bar):\n",
        "    print(bar)\n",
        "    supertrend_bot(bar)\n",
        "\n",
        "send_mail(\"Trading Bot is Live\")\n",
        "\n",
        "# Subscribe to data and assign handler\n",
        "alpaca_stream.subscribe_crypto_bars(on_crypto_bar, symbol)\n",
        "\n",
        "# Start streaming of data\n",
        "alpaca_stream.run()"
      ]
    }
  ],
  "metadata": {
    "colab": {
      "name": "crypto_bot.ipynb",
      "provenance": []
    },
    "kernelspec": {
      "display_name": "Python 3",
      "name": "python3"
    },
    "language_info": {
      "name": "python"
    }
  },
  "nbformat": 4,
  "nbformat_minor": 0
}
