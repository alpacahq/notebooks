{
  "cells": [
    {
      "cell_type": "markdown",
      "metadata": {
        "id": "Rh1KIne9IPPc"
      },
      "source": [
        "# Algorithmic Trading Crypto with Websockets"
      ]
    },
    {
      "cell_type": "markdown",
      "metadata": {
        "id": "_1FVH4rZHaDs"
      },
      "source": [
        "## Websocket Basic Usage Example\n",
        "\n",
        "In this example, we can use the Stream object from the alpaca-trade-api to set up streaming real-time Bitcoin (BTCUSD) price or trade data.\n",
        "\n",
        "In the main() function, we can use the subscribe_crypto_quotes or subscribe_crypto_trades methods of the Stream object to specify which data we want to receive. As the first parameter for these methods, we can place the function print_quote or print_trade to specify what to do with the data once it is received. For the second parameter, we can enter the symbol. \n",
        "\n",
        "Next, we can set up an asynchronous function that only executes once the data is received and run the stream!"
      ]
    },
    {
      "cell_type": "code",
      "execution_count": null,
      "metadata": {
        "id": "7mkFgnfWGTKq"
      },
      "outputs": [],
      "source": [
        "from alpaca_trade_api.stream import Stream\n",
        "\n",
        "ALPACA_API_KEY = 'APCA-API-KEY-ID'\n",
        "ALPACA_SECRET_KEY = 'APCA-API-SECRET-KEY'\n",
        "\n",
        "async def print_quote(q):\n",
        "    print('quote', q)\n",
        "\n",
        "async def print_trade(t):\n",
        "    print('trade', t)\n",
        "\n",
        "def main():\n",
        "    stream = Stream(ALPACA_API_KEY,ALPACA_SECRET_KEY, raw_data=True)\n",
        "    stream.subscribe_crypto_quotes(print_quote, 'BTCUSD')\n",
        "    stream.subscribe_crypto_trades(print_trade, 'BTCUSD')\n",
        "\n",
        "    @stream.on_bar('BTCUSD')\n",
        "    async def _(bar):\n",
        "        print('bar', bar)\n",
        "\n",
        "    stream.run()\n",
        "\n",
        "if __name__ == \"__main__\":\n",
        "    main()"
      ]
    },
    {
      "cell_type": "markdown",
      "metadata": {
        "id": "q9uTyMlOHZlM"
      },
      "source": [
        "## Websocket Reconnection\n",
        "\n",
        "In the case of any websocket disconnection, we can wrap the following basic code we used in the previous example with a try/except block so that the websocket can reconnect.\n",
        "\n",
        "For trading systems that rely on real-time data, it’s integral to use a data stream that can run continuously regardless of errors. In this example, the try/except block prevents the program from ending if the websocket connection runs into any errors. Instead, the error will be printed out and after a set period of time, the program will try to re-establish connection to the websocket."
      ]
    },
    {
      "cell_type": "code",
      "execution_count": null,
      "metadata": {
        "id": "TSBnZmPYHRQW"
      },
      "outputs": [],
      "source": [
        "import asyncio\n",
        "import logging\n",
        "import time\n",
        "from alpaca_trade_api.stream import Stream\n",
        "from alpaca_trade_api.common import URL\n",
        "\n",
        "logging.basicConfig(format='%(asctime)s %(message)s', level=logging.INFO)\n",
        "\n",
        "ALPACA_API_KEY = '********************'\n",
        "ALPACA_SECRET_KEY = '****************************************'\n",
        "\n",
        "def run_connection(conn):\n",
        "    try:\n",
        "        conn.run()\n",
        "    except KeyboardInterrupt:\n",
        "        print(\"Interrupted execution by user\")\n",
        "        asyncio.get_event_loop().run_until_complete(conn.stop_ws())\n",
        "        exit(0)\n",
        "    except Exception as e:\n",
        "        print(f'Exception from websocket connection: {e}')\n",
        "    finally:\n",
        "        print(\"Trying to re-establish connection\")\n",
        "        time.sleep(3)\n",
        "        run_connection(conn)\n",
        "\n",
        "async def print_quote(q):\n",
        "    print('quote', q)\n",
        "\n",
        "if __name__ == '__main__':\n",
        "    conn = Stream(ALPACA_API_KEY,\n",
        "                  ALPACA_SECRET_KEY,\n",
        "                  base_url=URL('https://paper-api.alpaca.markets'))\n",
        "\n",
        "    conn.subscribe_crypto_bars(print_quote, 'BTCUSD')\n",
        "\n",
        "    run_connection(conn)"
      ]
    },
    {
      "cell_type": "markdown",
      "metadata": {
        "id": "ROD2eZhfE8-M"
      },
      "source": [
        "## Websocket Pause/Resume Data Stream\n",
        "\n",
        "In order to stop and start the websocket connection at will, we can use the ThreadPoolExecutor method from the concurrent package. This can allow us to shut down the websocket subscription and turn it on again."
      ]
    },
    {
      "cell_type": "code",
      "execution_count": null,
      "metadata": {
        "id": "Bz-dwQvcHWHj"
      },
      "outputs": [],
      "source": [
        "import logging\n",
        "import time\n",
        "from concurrent.futures import ThreadPoolExecutor\n",
        "from alpaca_trade_api.stream import Stream\n",
        "from alpaca_trade_api.common import URL\n",
        "\n",
        "ALPACA_API_KEY = '********************'\n",
        "ALPACA_SECRET_KEY = '****************************************'\n",
        "\n",
        "async def print_quote(q):\n",
        "    print('quote', q)\n",
        "\n",
        "def consumer_thread():\n",
        "    global conn\n",
        "    conn = Stream(ALPACA_API_KEY,\n",
        "                  ALPACA_SECRET_KEY,\n",
        "                  base_url=URL('https://paper-api.alpaca.markets'))\n",
        "\n",
        "    conn.subscribe_crypto_quotes(print_quote, 'BTCUSD')\n",
        "    conn.run()\n",
        "\n",
        "\n",
        "if __name__ == '__main__':\n",
        "    logging.basicConfig(format='%(asctime)s  %(levelname)s %(message)s',\n",
        "                        level=logging.INFO)\n",
        "\n",
        "    pool = ThreadPoolExecutor(1)\n",
        "\n",
        "    while 1:\n",
        "        try:\n",
        "            pool.submit(consumer_thread)\n",
        "            time.sleep(20)\n",
        "            conn.stop_ws()\n",
        "            time.sleep(20)\n",
        "        except KeyboardInterrupt:\n",
        "            print(\"Interrupted execution by user\")\n",
        "            conn.stop_ws()\n",
        "            exit(0)\n",
        "        except Exception as e:\n",
        "            print(\"You got an exception: {} during execution. continue \"\n",
        "                  \"execution.\".format(e))\n",
        "            # let the execution continue\n",
        "            pass"
      ]
    },
    {
      "cell_type": "markdown",
      "metadata": {
        "id": "gN6TVSReHcFn"
      },
      "source": [
        "## Websocket Dynamic Subscription\n",
        "\n",
        "In addition to subscribing to data for only one cryptocurrency at a time, we can set up the websocket to change the subscription on demand.\n",
        "\n",
        "In this case, we can set up a dictionary with all of the the symbols and their corresponding functions we wish to execute. Then, we can run a for loop to iterate through the dictionary items and run the websocket connection for that specified symbol."
      ]
    },
    {
      "cell_type": "code",
      "execution_count": null,
      "metadata": {
        "id": "jJH32itTHT59"
      },
      "outputs": [],
      "source": [
        "import logging\n",
        "import threading\n",
        "import time\n",
        "from alpaca_trade_api.stream import Stream\n",
        "from alpaca_trade_api.common import URL\n",
        "\n",
        "ALPACA_API_KEY = '********************'\n",
        "ALPACA_SECRET_KEY = '****************************************'\n",
        "\n",
        "async def print_quote(q):\n",
        "    print('quote', q)\n",
        "\n",
        "PREVIOUS = None\n",
        "\n",
        "def consumer_thread():\n",
        "    global conn\n",
        "    conn = Stream(ALPACA_API_KEY,\n",
        "                  ALPACA_SECRET_KEY,\n",
        "                  base_url=URL('https://paper-api.alpaca.markets'))\n",
        "\n",
        "    conn.subscribe_crypto_quotes(print_quote, 'BTCUSD')\n",
        "    global PREVIOUS\n",
        "    PREVIOUS = \"BTCUSD\"\n",
        "    conn.run()\n",
        "\n",
        "if __name__ == '__main__':\n",
        "    logging.basicConfig(format='%(asctime)s %(levelname)s %(message)s',\n",
        "                        level=logging.INFO)\n",
        "    threading.Thread(target=consumer_thread).start()\n",
        "    time.sleep(5)  # give the initial connection time to be established\n",
        "    subscriptions = {\"ETHUSD\": print_quote,\n",
        "                     \"BTCUSD\": print_quote,\n",
        "                     \"DOGEUSD\": print_quote,\n",
        "                     }\n",
        "\n",
        "    while 1:\n",
        "        for ticker, handler in subscriptions.items():\n",
        "            conn.subscribe_crypto_quotes(PREVIOUS)\n",
        "            conn.subscribe_crypto_quotes(handler, ticker)\n",
        "            PREVIOUS = ticker\n",
        "            time.sleep(20)"
      ]
    },
    {
      "cell_type": "markdown",
      "metadata": {
        "id": "IoGQhTx1FVE8"
      },
      "source": [
        "## Websocket Live Trading Example\n",
        "\n",
        "Given that we have the knowledge behind how to stream live data with Alpaca, we can go ahead and start building the trading bot based on cross sectional momentum in the crypto markets.\n",
        "\n",
        "Typical cross-sectional momentum strategies involve ranking securities based on their recent returns and using that data to go long the best performing assets and go short the worst performing assets, hoping that the prevailing trend in both cases will continue. Since Alpaca does not support shorting cryptocurrency, this tutorial will cover just going long the best performing crypto from the last x period of days."
      ]
    },
    {
      "cell_type": "code",
      "execution_count": null,
      "metadata": {
        "id": "XWIpvVygFVgX"
      },
      "outputs": [],
      "source": [
        "# Import Dependencies\n",
        "import numpy as np\n",
        "import pandas as pd\n",
        "import alpaca_trade_api as tradeapi\n",
        "import datetime as dt\n",
        "\n",
        "# API Credentials\n",
        "ALPACA_API_KEY = '********************'\n",
        "ALPACA_SECRET_KEY = '****************************************'\n",
        "api = tradeapi.REST(ALPACA_API_KEY, ALPACA_SECRET_KEY,'https://paper-api.alpaca.markets')\n",
        "api.close_all_positions()\n",
        "\n",
        "# Date Variables\n",
        "start_date = dt.date.today() - dt.timedelta(days = 60)\n",
        "end_date = dt.date.today()\n",
        "\n",
        "# Check Whether Account Currently Holds Symbol\n",
        "def check_positions(symbol):\n",
        "    positions = api.list_positions()\n",
        "    for p in positions:\n",
        "        if p.symbol == symbol:\n",
        "            return float(p.qty)\n",
        "    return 0\n",
        "\n",
        "# Cross Sectional Momentum Bot Function\n",
        "def cross_sectional_momentum(bar):\n",
        "    try:\n",
        "        # Get the Latest Data\n",
        "        dataframe = pd.DataFrame()\n",
        "        symbols = ['BTCUSD','ETHUSD','DOGEUSD','SHIBUSD','MATICUSD','ALGOUSD','AVAXUSD','LINKUSD','SOLUSD']\n",
        "        for symbol in symbols:\n",
        "            data = api.get_crypto_bars(symbol, tradeapi.TimeFrame(1, tradeapi.TimeFrameUnit.Day), start=start_date, end=end_date, exchanges=['FTXU']).df['close']\n",
        "            data = pd.DataFrame(data).rename(columns={\"close\": str(symbol)})\n",
        "            dataframe = pd.concat([dataframe,data], axis=1, sort=False)\n",
        "\n",
        "        returns_data = dataframe.apply(func = lambda x: x.shift(-1)/x - 1, axis = 0)\n",
        "\n",
        "        # Calculate Momentum Dataframe\n",
        "        momentum_df = returns_data.apply(func = lambda x: x.shift(1)/x.shift(7) - 1, axis = 0)\n",
        "        momentum_df = momentum_df.rank(axis = 1)\n",
        "        for col in momentum_df.columns:\n",
        "            momentum_df[col] = np.where(momentum_df[col] > 8, 1, 0)\n",
        "\n",
        "        # Get Symbol with Highest Momentum\n",
        "        momentum_df['Buy'] = momentum_df.astype(bool).dot(momentum_df.columns)\n",
        "        buy_symbol = momentum_df['Buy'].iloc[-1]\n",
        "        old_symbol = momentum_df['Buy'].iloc[-2]\n",
        "\n",
        "        # Account Details\n",
        "        current_position = check_positions(symbol=buy_symbol)\n",
        "        old_position = check_positions(symbol=old_symbol)\n",
        "\n",
        "        # No Current Positions\n",
        "        if current_position == 0 and old_position == 0:\n",
        "            cash_balance = api.get_account().non_marginable_buying_power\n",
        "            api.submit_order(buy_symbol, notional=cash_balance, side='buy')\n",
        "            message = f'Symbol: {buy_symbol} | Side: Buy | Notional: {cash_balance}'\n",
        "            print(message)\n",
        "\n",
        "        # No Current Position and Yes Old Position\n",
        "        if current_position == 0 and old_position == 1:\n",
        "            api.close_position(old_position)\n",
        "            message = f'Symbol: {old_symbol} | Side: Sell'\n",
        "            print(message)\n",
        "\n",
        "            cash_balance = api.get_account().non_marginable_buying_power\n",
        "            api.submit_order(buy_symbol, notional=cash_balance, side='buy')\n",
        "            message = f'Symbol: {buy_symbol} | Side: Buy | Notional: {cash_balance}'\n",
        "            print(message)\n",
        "\n",
        "        print(\"-\"*20)\n",
        "\n",
        "    except Exception as e:\n",
        "        print (e)\n",
        "\n",
        "# Create instance of Alpaca data streaming API\n",
        "alpaca_stream = tradeapi.Stream(ALPACA_API_KEY, ALPACA_SECRET_KEY, raw_data=True, crypto_exchanges=['FTXU'])\n",
        "\n",
        "# Create handler for receiving live bar data\n",
        "async def on_crypto_bar(bar):\n",
        "    print(bar)\n",
        "    cross_sectional_momentum(bar)\n",
        "\n",
        "# Subscribe to data and assign handler\n",
        "alpaca_stream.subscribe_crypto_daily_bars(on_crypto_bar, 'BTCUSD','ETHUSD','DOGEUSD','SHIBUSD','MATICUSD','ALGOUSD','AVAXUSD','LINKUSD','SOLUSD')\n",
        "\n",
        "# Start streaming of data\n",
        "alpaca_stream.run()"
      ]
    }
  ],
  "metadata": {
    "colab": {
      "name": "websocket_trading.ipynb",
      "provenance": []
    },
    "kernelspec": {
      "display_name": "Python 3",
      "name": "python3"
    },
    "language_info": {
      "name": "python"
    }
  },
  "nbformat": 4,
  "nbformat_minor": 0
}
